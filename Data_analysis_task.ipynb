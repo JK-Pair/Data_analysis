{
 "cells": [
  {
   "cell_type": "markdown",
   "metadata": {},
   "source": [
    "# 1 - Weather data analysis\n",
    "## a - Write a small script to load this data into memory"
   ]
  },
  {
   "cell_type": "code",
   "execution_count": 19,
   "metadata": {},
   "outputs": [],
   "source": [
    "import pandas as pd\n",
    "import matplotlib.pyplot as plt\n",
    "import seaborn as sn\n",
    "import numpy as np"
   ]
  },
  {
   "cell_type": "code",
   "execution_count": 20,
   "metadata": {},
   "outputs": [
    {
     "data": {
      "text/html": [
       "<div>\n",
       "<style scoped>\n",
       "    .dataframe tbody tr th:only-of-type {\n",
       "        vertical-align: middle;\n",
       "    }\n",
       "\n",
       "    .dataframe tbody tr th {\n",
       "        vertical-align: top;\n",
       "    }\n",
       "\n",
       "    .dataframe thead th {\n",
       "        text-align: right;\n",
       "    }\n",
       "</style>\n",
       "<table border=\"1\" class=\"dataframe\">\n",
       "  <thead>\n",
       "    <tr style=\"text-align: right;\">\n",
       "      <th></th>\n",
       "      <th>SRAD</th>\n",
       "      <th>TMAX</th>\n",
       "      <th>TMIN</th>\n",
       "      <th>RAIN</th>\n",
       "      <th>TAVE</th>\n",
       "    </tr>\n",
       "    <tr>\n",
       "      <th>DATE</th>\n",
       "      <th></th>\n",
       "      <th></th>\n",
       "      <th></th>\n",
       "      <th></th>\n",
       "      <th></th>\n",
       "    </tr>\n",
       "  </thead>\n",
       "  <tbody>\n",
       "    <tr>\n",
       "      <th>1988001</th>\n",
       "      <td>-99.0</td>\n",
       "      <td>30.5</td>\n",
       "      <td>23.0</td>\n",
       "      <td>0.0</td>\n",
       "      <td>26.8</td>\n",
       "    </tr>\n",
       "    <tr>\n",
       "      <th>1988002</th>\n",
       "      <td>-99.0</td>\n",
       "      <td>31.6</td>\n",
       "      <td>23.3</td>\n",
       "      <td>0.0</td>\n",
       "      <td>27.5</td>\n",
       "    </tr>\n",
       "    <tr>\n",
       "      <th>1988003</th>\n",
       "      <td>-99.0</td>\n",
       "      <td>30.6</td>\n",
       "      <td>23.2</td>\n",
       "      <td>7.7</td>\n",
       "      <td>26.9</td>\n",
       "    </tr>\n",
       "    <tr>\n",
       "      <th>1988004</th>\n",
       "      <td>-99.0</td>\n",
       "      <td>31.6</td>\n",
       "      <td>23.5</td>\n",
       "      <td>0.9</td>\n",
       "      <td>27.6</td>\n",
       "    </tr>\n",
       "    <tr>\n",
       "      <th>1988005</th>\n",
       "      <td>-99.0</td>\n",
       "      <td>30.7</td>\n",
       "      <td>20.1</td>\n",
       "      <td>0.3</td>\n",
       "      <td>25.4</td>\n",
       "    </tr>\n",
       "    <tr>\n",
       "      <th>1988006</th>\n",
       "      <td>-99.0</td>\n",
       "      <td>30.2</td>\n",
       "      <td>23.0</td>\n",
       "      <td>0.5</td>\n",
       "      <td>26.6</td>\n",
       "    </tr>\n",
       "    <tr>\n",
       "      <th>1988007</th>\n",
       "      <td>-99.0</td>\n",
       "      <td>31.3</td>\n",
       "      <td>21.9</td>\n",
       "      <td>0.0</td>\n",
       "      <td>26.6</td>\n",
       "    </tr>\n",
       "    <tr>\n",
       "      <th>1988008</th>\n",
       "      <td>-99.0</td>\n",
       "      <td>31.3</td>\n",
       "      <td>21.3</td>\n",
       "      <td>0.0</td>\n",
       "      <td>26.3</td>\n",
       "    </tr>\n",
       "    <tr>\n",
       "      <th>1988009</th>\n",
       "      <td>-99.0</td>\n",
       "      <td>31.2</td>\n",
       "      <td>22.0</td>\n",
       "      <td>9.5</td>\n",
       "      <td>26.6</td>\n",
       "    </tr>\n",
       "    <tr>\n",
       "      <th>1988010</th>\n",
       "      <td>-99.0</td>\n",
       "      <td>30.6</td>\n",
       "      <td>23.0</td>\n",
       "      <td>0.0</td>\n",
       "      <td>26.8</td>\n",
       "    </tr>\n",
       "    <tr>\n",
       "      <th>1988011</th>\n",
       "      <td>-99.0</td>\n",
       "      <td>31.4</td>\n",
       "      <td>26.3</td>\n",
       "      <td>0.0</td>\n",
       "      <td>28.9</td>\n",
       "    </tr>\n",
       "    <tr>\n",
       "      <th>1988012</th>\n",
       "      <td>-99.0</td>\n",
       "      <td>31.5</td>\n",
       "      <td>26.2</td>\n",
       "      <td>1.1</td>\n",
       "      <td>28.9</td>\n",
       "    </tr>\n",
       "    <tr>\n",
       "      <th>1988013</th>\n",
       "      <td>-99.0</td>\n",
       "      <td>30.9</td>\n",
       "      <td>25.2</td>\n",
       "      <td>1.7</td>\n",
       "      <td>28.0</td>\n",
       "    </tr>\n",
       "    <tr>\n",
       "      <th>1988014</th>\n",
       "      <td>-99.0</td>\n",
       "      <td>30.7</td>\n",
       "      <td>25.4</td>\n",
       "      <td>0.3</td>\n",
       "      <td>28.0</td>\n",
       "    </tr>\n",
       "    <tr>\n",
       "      <th>1988015</th>\n",
       "      <td>-99.0</td>\n",
       "      <td>30.8</td>\n",
       "      <td>23.5</td>\n",
       "      <td>0.0</td>\n",
       "      <td>27.1</td>\n",
       "    </tr>\n",
       "    <tr>\n",
       "      <th>1988016</th>\n",
       "      <td>-99.0</td>\n",
       "      <td>30.5</td>\n",
       "      <td>25.7</td>\n",
       "      <td>0.0</td>\n",
       "      <td>28.1</td>\n",
       "    </tr>\n",
       "    <tr>\n",
       "      <th>1988017</th>\n",
       "      <td>-99.0</td>\n",
       "      <td>31.5</td>\n",
       "      <td>25.6</td>\n",
       "      <td>0.2</td>\n",
       "      <td>28.6</td>\n",
       "    </tr>\n",
       "    <tr>\n",
       "      <th>1988018</th>\n",
       "      <td>-99.0</td>\n",
       "      <td>30.2</td>\n",
       "      <td>23.6</td>\n",
       "      <td>0.0</td>\n",
       "      <td>26.9</td>\n",
       "    </tr>\n",
       "    <tr>\n",
       "      <th>1988019</th>\n",
       "      <td>-99.0</td>\n",
       "      <td>30.0</td>\n",
       "      <td>20.8</td>\n",
       "      <td>0.0</td>\n",
       "      <td>25.4</td>\n",
       "    </tr>\n",
       "    <tr>\n",
       "      <th>1988020</th>\n",
       "      <td>-99.0</td>\n",
       "      <td>29.3</td>\n",
       "      <td>23.0</td>\n",
       "      <td>0.0</td>\n",
       "      <td>26.1</td>\n",
       "    </tr>\n",
       "    <tr>\n",
       "      <th>1988021</th>\n",
       "      <td>-99.0</td>\n",
       "      <td>31.9</td>\n",
       "      <td>19.8</td>\n",
       "      <td>0.0</td>\n",
       "      <td>25.9</td>\n",
       "    </tr>\n",
       "    <tr>\n",
       "      <th>1988022</th>\n",
       "      <td>-99.0</td>\n",
       "      <td>31.3</td>\n",
       "      <td>21.7</td>\n",
       "      <td>0.0</td>\n",
       "      <td>26.5</td>\n",
       "    </tr>\n",
       "    <tr>\n",
       "      <th>1988023</th>\n",
       "      <td>-99.0</td>\n",
       "      <td>32.7</td>\n",
       "      <td>21.5</td>\n",
       "      <td>0.0</td>\n",
       "      <td>27.1</td>\n",
       "    </tr>\n",
       "    <tr>\n",
       "      <th>1988024</th>\n",
       "      <td>-99.0</td>\n",
       "      <td>32.1</td>\n",
       "      <td>23.3</td>\n",
       "      <td>0.0</td>\n",
       "      <td>27.7</td>\n",
       "    </tr>\n",
       "    <tr>\n",
       "      <th>1988025</th>\n",
       "      <td>-99.0</td>\n",
       "      <td>31.5</td>\n",
       "      <td>23.8</td>\n",
       "      <td>0.0</td>\n",
       "      <td>27.6</td>\n",
       "    </tr>\n",
       "    <tr>\n",
       "      <th>1988026</th>\n",
       "      <td>-99.0</td>\n",
       "      <td>30.7</td>\n",
       "      <td>22.8</td>\n",
       "      <td>1.3</td>\n",
       "      <td>26.8</td>\n",
       "    </tr>\n",
       "    <tr>\n",
       "      <th>1988027</th>\n",
       "      <td>-99.0</td>\n",
       "      <td>31.7</td>\n",
       "      <td>24.5</td>\n",
       "      <td>12.6</td>\n",
       "      <td>28.1</td>\n",
       "    </tr>\n",
       "    <tr>\n",
       "      <th>1988028</th>\n",
       "      <td>-99.0</td>\n",
       "      <td>30.8</td>\n",
       "      <td>24.7</td>\n",
       "      <td>0.0</td>\n",
       "      <td>27.8</td>\n",
       "    </tr>\n",
       "    <tr>\n",
       "      <th>1988029</th>\n",
       "      <td>-99.0</td>\n",
       "      <td>31.5</td>\n",
       "      <td>22.9</td>\n",
       "      <td>0.0</td>\n",
       "      <td>27.2</td>\n",
       "    </tr>\n",
       "    <tr>\n",
       "      <th>1988030</th>\n",
       "      <td>-99.0</td>\n",
       "      <td>31.4</td>\n",
       "      <td>24.1</td>\n",
       "      <td>0.3</td>\n",
       "      <td>27.8</td>\n",
       "    </tr>\n",
       "    <tr>\n",
       "      <th>...</th>\n",
       "      <td>...</td>\n",
       "      <td>...</td>\n",
       "      <td>...</td>\n",
       "      <td>...</td>\n",
       "      <td>...</td>\n",
       "    </tr>\n",
       "    <tr>\n",
       "      <th>2018275</th>\n",
       "      <td>-99.0</td>\n",
       "      <td>33.8</td>\n",
       "      <td>-99.0</td>\n",
       "      <td>0.4</td>\n",
       "      <td>-99.0</td>\n",
       "    </tr>\n",
       "    <tr>\n",
       "      <th>2018276</th>\n",
       "      <td>-99.0</td>\n",
       "      <td>33.0</td>\n",
       "      <td>-99.0</td>\n",
       "      <td>46.8</td>\n",
       "      <td>-99.0</td>\n",
       "    </tr>\n",
       "    <tr>\n",
       "      <th>2018277</th>\n",
       "      <td>-99.0</td>\n",
       "      <td>32.2</td>\n",
       "      <td>-99.0</td>\n",
       "      <td>3.2</td>\n",
       "      <td>-99.0</td>\n",
       "    </tr>\n",
       "    <tr>\n",
       "      <th>2018278</th>\n",
       "      <td>-99.0</td>\n",
       "      <td>33.0</td>\n",
       "      <td>-99.0</td>\n",
       "      <td>105.2</td>\n",
       "      <td>-99.0</td>\n",
       "    </tr>\n",
       "    <tr>\n",
       "      <th>2018279</th>\n",
       "      <td>-99.0</td>\n",
       "      <td>31.6</td>\n",
       "      <td>-99.0</td>\n",
       "      <td>37.4</td>\n",
       "      <td>-99.0</td>\n",
       "    </tr>\n",
       "    <tr>\n",
       "      <th>2018280</th>\n",
       "      <td>-99.0</td>\n",
       "      <td>29.7</td>\n",
       "      <td>-99.0</td>\n",
       "      <td>0.8</td>\n",
       "      <td>-99.0</td>\n",
       "    </tr>\n",
       "    <tr>\n",
       "      <th>2018281</th>\n",
       "      <td>-99.0</td>\n",
       "      <td>33.0</td>\n",
       "      <td>-99.0</td>\n",
       "      <td>4.3</td>\n",
       "      <td>-99.0</td>\n",
       "    </tr>\n",
       "    <tr>\n",
       "      <th>2018282</th>\n",
       "      <td>-99.0</td>\n",
       "      <td>32.0</td>\n",
       "      <td>-99.0</td>\n",
       "      <td>0.3</td>\n",
       "      <td>-99.0</td>\n",
       "    </tr>\n",
       "    <tr>\n",
       "      <th>2018283</th>\n",
       "      <td>-99.0</td>\n",
       "      <td>32.3</td>\n",
       "      <td>23.0</td>\n",
       "      <td>0.9</td>\n",
       "      <td>27.6</td>\n",
       "    </tr>\n",
       "    <tr>\n",
       "      <th>2018284</th>\n",
       "      <td>-99.0</td>\n",
       "      <td>29.5</td>\n",
       "      <td>23.0</td>\n",
       "      <td>9.0</td>\n",
       "      <td>26.2</td>\n",
       "    </tr>\n",
       "    <tr>\n",
       "      <th>2018285</th>\n",
       "      <td>-99.0</td>\n",
       "      <td>29.2</td>\n",
       "      <td>23.1</td>\n",
       "      <td>9.0</td>\n",
       "      <td>26.1</td>\n",
       "    </tr>\n",
       "    <tr>\n",
       "      <th>2018286</th>\n",
       "      <td>-99.0</td>\n",
       "      <td>32.5</td>\n",
       "      <td>23.5</td>\n",
       "      <td>1.1</td>\n",
       "      <td>28.0</td>\n",
       "    </tr>\n",
       "    <tr>\n",
       "      <th>2018287</th>\n",
       "      <td>-99.0</td>\n",
       "      <td>33.0</td>\n",
       "      <td>23.9</td>\n",
       "      <td>2.1</td>\n",
       "      <td>28.4</td>\n",
       "    </tr>\n",
       "    <tr>\n",
       "      <th>2018288</th>\n",
       "      <td>-99.0</td>\n",
       "      <td>33.4</td>\n",
       "      <td>24.0</td>\n",
       "      <td>0.6</td>\n",
       "      <td>28.7</td>\n",
       "    </tr>\n",
       "    <tr>\n",
       "      <th>2018289</th>\n",
       "      <td>-99.0</td>\n",
       "      <td>32.8</td>\n",
       "      <td>24.2</td>\n",
       "      <td>9.2</td>\n",
       "      <td>28.5</td>\n",
       "    </tr>\n",
       "    <tr>\n",
       "      <th>2018290</th>\n",
       "      <td>-99.0</td>\n",
       "      <td>33.2</td>\n",
       "      <td>23.5</td>\n",
       "      <td>-99.0</td>\n",
       "      <td>28.4</td>\n",
       "    </tr>\n",
       "    <tr>\n",
       "      <th>2018291</th>\n",
       "      <td>-99.0</td>\n",
       "      <td>34.2</td>\n",
       "      <td>23.3</td>\n",
       "      <td>1.7</td>\n",
       "      <td>28.8</td>\n",
       "    </tr>\n",
       "    <tr>\n",
       "      <th>2018292</th>\n",
       "      <td>-99.0</td>\n",
       "      <td>33.0</td>\n",
       "      <td>24.0</td>\n",
       "      <td>-99.0</td>\n",
       "      <td>28.5</td>\n",
       "    </tr>\n",
       "    <tr>\n",
       "      <th>2018293</th>\n",
       "      <td>-99.0</td>\n",
       "      <td>32.5</td>\n",
       "      <td>24.0</td>\n",
       "      <td>3.2</td>\n",
       "      <td>28.2</td>\n",
       "    </tr>\n",
       "    <tr>\n",
       "      <th>2018294</th>\n",
       "      <td>-99.0</td>\n",
       "      <td>32.2</td>\n",
       "      <td>23.8</td>\n",
       "      <td>1.0</td>\n",
       "      <td>28.0</td>\n",
       "    </tr>\n",
       "    <tr>\n",
       "      <th>2018295</th>\n",
       "      <td>-99.0</td>\n",
       "      <td>33.0</td>\n",
       "      <td>23.4</td>\n",
       "      <td>-99.0</td>\n",
       "      <td>28.2</td>\n",
       "    </tr>\n",
       "    <tr>\n",
       "      <th>2018296</th>\n",
       "      <td>-99.0</td>\n",
       "      <td>32.6</td>\n",
       "      <td>24.0</td>\n",
       "      <td>1.4</td>\n",
       "      <td>28.3</td>\n",
       "    </tr>\n",
       "    <tr>\n",
       "      <th>2018297</th>\n",
       "      <td>-99.0</td>\n",
       "      <td>31.2</td>\n",
       "      <td>23.7</td>\n",
       "      <td>-99.0</td>\n",
       "      <td>27.4</td>\n",
       "    </tr>\n",
       "    <tr>\n",
       "      <th>2018298</th>\n",
       "      <td>-99.0</td>\n",
       "      <td>32.5</td>\n",
       "      <td>23.4</td>\n",
       "      <td>-99.0</td>\n",
       "      <td>27.9</td>\n",
       "    </tr>\n",
       "    <tr>\n",
       "      <th>2018299</th>\n",
       "      <td>-99.0</td>\n",
       "      <td>32.2</td>\n",
       "      <td>23.0</td>\n",
       "      <td>10.7</td>\n",
       "      <td>27.6</td>\n",
       "    </tr>\n",
       "    <tr>\n",
       "      <th>2018300</th>\n",
       "      <td>-99.0</td>\n",
       "      <td>33.0</td>\n",
       "      <td>23.4</td>\n",
       "      <td>-99.0</td>\n",
       "      <td>28.2</td>\n",
       "    </tr>\n",
       "    <tr>\n",
       "      <th>2018301</th>\n",
       "      <td>-99.0</td>\n",
       "      <td>32.5</td>\n",
       "      <td>24.5</td>\n",
       "      <td>-99.0</td>\n",
       "      <td>28.5</td>\n",
       "    </tr>\n",
       "    <tr>\n",
       "      <th>2018302</th>\n",
       "      <td>-99.0</td>\n",
       "      <td>29.8</td>\n",
       "      <td>23.7</td>\n",
       "      <td>63.1</td>\n",
       "      <td>26.8</td>\n",
       "    </tr>\n",
       "    <tr>\n",
       "      <th>2018303</th>\n",
       "      <td>-99.0</td>\n",
       "      <td>29.6</td>\n",
       "      <td>23.0</td>\n",
       "      <td>13.1</td>\n",
       "      <td>26.3</td>\n",
       "    </tr>\n",
       "    <tr>\n",
       "      <th>2018304</th>\n",
       "      <td>-99.0</td>\n",
       "      <td>-99.0</td>\n",
       "      <td>-99.0</td>\n",
       "      <td>-99.0</td>\n",
       "      <td>-99.0</td>\n",
       "    </tr>\n",
       "  </tbody>\n",
       "</table>\n",
       "<p>11262 rows × 5 columns</p>\n",
       "</div>"
      ],
      "text/plain": [
       "         SRAD  TMAX  TMIN   RAIN  TAVE\n",
       "DATE                                  \n",
       "1988001 -99.0  30.5  23.0    0.0  26.8\n",
       "1988002 -99.0  31.6  23.3    0.0  27.5\n",
       "1988003 -99.0  30.6  23.2    7.7  26.9\n",
       "1988004 -99.0  31.6  23.5    0.9  27.6\n",
       "1988005 -99.0  30.7  20.1    0.3  25.4\n",
       "1988006 -99.0  30.2  23.0    0.5  26.6\n",
       "1988007 -99.0  31.3  21.9    0.0  26.6\n",
       "1988008 -99.0  31.3  21.3    0.0  26.3\n",
       "1988009 -99.0  31.2  22.0    9.5  26.6\n",
       "1988010 -99.0  30.6  23.0    0.0  26.8\n",
       "1988011 -99.0  31.4  26.3    0.0  28.9\n",
       "1988012 -99.0  31.5  26.2    1.1  28.9\n",
       "1988013 -99.0  30.9  25.2    1.7  28.0\n",
       "1988014 -99.0  30.7  25.4    0.3  28.0\n",
       "1988015 -99.0  30.8  23.5    0.0  27.1\n",
       "1988016 -99.0  30.5  25.7    0.0  28.1\n",
       "1988017 -99.0  31.5  25.6    0.2  28.6\n",
       "1988018 -99.0  30.2  23.6    0.0  26.9\n",
       "1988019 -99.0  30.0  20.8    0.0  25.4\n",
       "1988020 -99.0  29.3  23.0    0.0  26.1\n",
       "1988021 -99.0  31.9  19.8    0.0  25.9\n",
       "1988022 -99.0  31.3  21.7    0.0  26.5\n",
       "1988023 -99.0  32.7  21.5    0.0  27.1\n",
       "1988024 -99.0  32.1  23.3    0.0  27.7\n",
       "1988025 -99.0  31.5  23.8    0.0  27.6\n",
       "1988026 -99.0  30.7  22.8    1.3  26.8\n",
       "1988027 -99.0  31.7  24.5   12.6  28.1\n",
       "1988028 -99.0  30.8  24.7    0.0  27.8\n",
       "1988029 -99.0  31.5  22.9    0.0  27.2\n",
       "1988030 -99.0  31.4  24.1    0.3  27.8\n",
       "...       ...   ...   ...    ...   ...\n",
       "2018275 -99.0  33.8 -99.0    0.4 -99.0\n",
       "2018276 -99.0  33.0 -99.0   46.8 -99.0\n",
       "2018277 -99.0  32.2 -99.0    3.2 -99.0\n",
       "2018278 -99.0  33.0 -99.0  105.2 -99.0\n",
       "2018279 -99.0  31.6 -99.0   37.4 -99.0\n",
       "2018280 -99.0  29.7 -99.0    0.8 -99.0\n",
       "2018281 -99.0  33.0 -99.0    4.3 -99.0\n",
       "2018282 -99.0  32.0 -99.0    0.3 -99.0\n",
       "2018283 -99.0  32.3  23.0    0.9  27.6\n",
       "2018284 -99.0  29.5  23.0    9.0  26.2\n",
       "2018285 -99.0  29.2  23.1    9.0  26.1\n",
       "2018286 -99.0  32.5  23.5    1.1  28.0\n",
       "2018287 -99.0  33.0  23.9    2.1  28.4\n",
       "2018288 -99.0  33.4  24.0    0.6  28.7\n",
       "2018289 -99.0  32.8  24.2    9.2  28.5\n",
       "2018290 -99.0  33.2  23.5  -99.0  28.4\n",
       "2018291 -99.0  34.2  23.3    1.7  28.8\n",
       "2018292 -99.0  33.0  24.0  -99.0  28.5\n",
       "2018293 -99.0  32.5  24.0    3.2  28.2\n",
       "2018294 -99.0  32.2  23.8    1.0  28.0\n",
       "2018295 -99.0  33.0  23.4  -99.0  28.2\n",
       "2018296 -99.0  32.6  24.0    1.4  28.3\n",
       "2018297 -99.0  31.2  23.7  -99.0  27.4\n",
       "2018298 -99.0  32.5  23.4  -99.0  27.9\n",
       "2018299 -99.0  32.2  23.0   10.7  27.6\n",
       "2018300 -99.0  33.0  23.4  -99.0  28.2\n",
       "2018301 -99.0  32.5  24.5  -99.0  28.5\n",
       "2018302 -99.0  29.8  23.7   63.1  26.8\n",
       "2018303 -99.0  29.6  23.0   13.1  26.3\n",
       "2018304 -99.0 -99.0 -99.0  -99.0 -99.0\n",
       "\n",
       "[11262 rows x 5 columns]"
      ]
     },
     "execution_count": 20,
     "metadata": {},
     "output_type": "execute_result"
    }
   ],
   "source": [
    "file = open(\"weatherData.WTD\", 'r') #or 583201.WTD\n",
    "headline = file.readline()\n",
    "\n",
    "data = pd.read_csv(file, sep='\\s+', names = headline.replace('@', '').split(), index_col=0) #, na_values=(-99.0), parse_dates=['DATE']\n",
    "data"
   ]
  },
  {
   "cell_type": "markdown",
   "metadata": {},
   "source": [
    "## b - Do you notice some strange pattern or unexpected behavior in the data ?"
   ]
  },
  {
   "cell_type": "code",
   "execution_count": 21,
   "metadata": {},
   "outputs": [
    {
     "name": "stdout",
     "output_type": "stream",
     "text": [
      "<class 'pandas.core.frame.DataFrame'>\n",
      "Int64Index: 11262 entries, 1988001 to 2018304\n",
      "Data columns (total 5 columns):\n",
      "SRAD    11262 non-null float64\n",
      "TMAX    11262 non-null float64\n",
      "TMIN    11262 non-null float64\n",
      "RAIN    11262 non-null float64\n",
      "TAVE    11262 non-null float64\n",
      "dtypes: float64(5)\n",
      "memory usage: 527.9 KB\n"
     ]
    }
   ],
   "source": [
    "data.info()"
   ]
  },
  {
   "cell_type": "markdown",
   "metadata": {},
   "source": [
    "### No variable column has null/missing values but..."
   ]
  },
  {
   "cell_type": "code",
   "execution_count": 22,
   "metadata": {},
   "outputs": [
    {
     "data": {
      "text/html": [
       "<div>\n",
       "<style scoped>\n",
       "    .dataframe tbody tr th:only-of-type {\n",
       "        vertical-align: middle;\n",
       "    }\n",
       "\n",
       "    .dataframe tbody tr th {\n",
       "        vertical-align: top;\n",
       "    }\n",
       "\n",
       "    .dataframe thead th {\n",
       "        text-align: right;\n",
       "    }\n",
       "</style>\n",
       "<table border=\"1\" class=\"dataframe\">\n",
       "  <thead>\n",
       "    <tr style=\"text-align: right;\">\n",
       "      <th></th>\n",
       "      <th>SRAD</th>\n",
       "      <th>TMAX</th>\n",
       "      <th>TMIN</th>\n",
       "      <th>RAIN</th>\n",
       "      <th>TAVE</th>\n",
       "    </tr>\n",
       "  </thead>\n",
       "  <tbody>\n",
       "    <tr>\n",
       "      <th>count</th>\n",
       "      <td>11262.0</td>\n",
       "      <td>11262.000000</td>\n",
       "      <td>11262.000000</td>\n",
       "      <td>11262.000000</td>\n",
       "      <td>11262.000000</td>\n",
       "    </tr>\n",
       "    <tr>\n",
       "      <th>mean</th>\n",
       "      <td>-99.0</td>\n",
       "      <td>30.925528</td>\n",
       "      <td>21.157805</td>\n",
       "      <td>-2.319606</td>\n",
       "      <td>25.243926</td>\n",
       "    </tr>\n",
       "    <tr>\n",
       "      <th>std</th>\n",
       "      <td>0.0</td>\n",
       "      <td>10.746358</td>\n",
       "      <td>16.639383</td>\n",
       "      <td>37.811093</td>\n",
       "      <td>17.212965</td>\n",
       "    </tr>\n",
       "    <tr>\n",
       "      <th>min</th>\n",
       "      <td>-99.0</td>\n",
       "      <td>-99.000000</td>\n",
       "      <td>-99.000000</td>\n",
       "      <td>-99.000000</td>\n",
       "      <td>-99.000000</td>\n",
       "    </tr>\n",
       "    <tr>\n",
       "      <th>25%</th>\n",
       "      <td>-99.0</td>\n",
       "      <td>30.500000</td>\n",
       "      <td>22.800000</td>\n",
       "      <td>0.000000</td>\n",
       "      <td>26.800000</td>\n",
       "    </tr>\n",
       "    <tr>\n",
       "      <th>50%</th>\n",
       "      <td>-99.0</td>\n",
       "      <td>32.000000</td>\n",
       "      <td>23.500000</td>\n",
       "      <td>0.000000</td>\n",
       "      <td>27.700000</td>\n",
       "    </tr>\n",
       "    <tr>\n",
       "      <th>75%</th>\n",
       "      <td>-99.0</td>\n",
       "      <td>33.200000</td>\n",
       "      <td>24.100000</td>\n",
       "      <td>4.600000</td>\n",
       "      <td>28.500000</td>\n",
       "    </tr>\n",
       "    <tr>\n",
       "      <th>max</th>\n",
       "      <td>-99.0</td>\n",
       "      <td>38.300000</td>\n",
       "      <td>27.400000</td>\n",
       "      <td>441.600000</td>\n",
       "      <td>31.700000</td>\n",
       "    </tr>\n",
       "  </tbody>\n",
       "</table>\n",
       "</div>"
      ],
      "text/plain": [
       "          SRAD          TMAX          TMIN          RAIN          TAVE\n",
       "count  11262.0  11262.000000  11262.000000  11262.000000  11262.000000\n",
       "mean     -99.0     30.925528     21.157805     -2.319606     25.243926\n",
       "std        0.0     10.746358     16.639383     37.811093     17.212965\n",
       "min      -99.0    -99.000000    -99.000000    -99.000000    -99.000000\n",
       "25%      -99.0     30.500000     22.800000      0.000000     26.800000\n",
       "50%      -99.0     32.000000     23.500000      0.000000     27.700000\n",
       "75%      -99.0     33.200000     24.100000      4.600000     28.500000\n",
       "max      -99.0     38.300000     27.400000    441.600000     31.700000"
      ]
     },
     "execution_count": 22,
     "metadata": {},
     "output_type": "execute_result"
    }
   ],
   "source": [
    "data.describe()"
   ]
  },
  {
   "cell_type": "code",
   "execution_count": 23,
   "metadata": {},
   "outputs": [
    {
     "data": {
      "text/plain": [
       "array([-99.])"
      ]
     },
     "execution_count": 23,
     "metadata": {},
     "output_type": "execute_result"
    }
   ],
   "source": [
    "data.SRAD.unique()"
   ]
  },
  {
   "cell_type": "code",
   "execution_count": 24,
   "metadata": {},
   "outputs": [
    {
     "name": "stdout",
     "output_type": "stream",
     "text": [
      "Missing data of TMAX: 74/11262\n",
      "Missing data of TMIN: 211/11262\n",
      "Missing data of RAIN: 1088/11262\n",
      "Missing data of TAVE: 211/11262\n"
     ]
    }
   ],
   "source": [
    "countIndex = len(data.index)\n",
    "print(\"Missing data of TMAX: {}/{}\".format(data.TMAX.isin([-99.0]).sum(), countIndex))\n",
    "print(\"Missing data of TMIN: {}/{}\".format(data.TMIN.isin([-99.0]).sum(), countIndex))\n",
    "print(\"Missing data of RAIN: {}/{}\".format(data.RAIN.isin([-99.0]).sum(), countIndex))\n",
    "print(\"Missing data of TAVE: {}/{}\".format(data.TAVE.isin([-99.0]).sum(), countIndex))"
   ]
  },
  {
   "cell_type": "markdown",
   "metadata": {},
   "source": [
    "### Answer\n",
    "<ol>\n",
    "    <li>Missing value is denoted by -99.0 and SRAD has only -99.0 which means SRAD there is no data stored.</li>\n",
    "    <li>There are extreme values-Outliers in our data set, because</li>\n",
    "    <ul>\n",
    "        <li>In the table above, Mean value is less than median value of each column which is represented by 50%(50th percentile) in index column.</li>\n",
    "        <li>There is notably a large difference between 75th %tile and max values of the \"RAIN\" column.</li>\n",
    "    </ul>"
   ]
  },
  {
   "cell_type": "markdown",
   "metadata": {},
   "source": [
    "## c - Compute and display the correlation matrix between the 5 properties."
   ]
  },
  {
   "cell_type": "code",
   "execution_count": 25,
   "metadata": {},
   "outputs": [
    {
     "data": {
      "text/html": [
       "<div>\n",
       "<style scoped>\n",
       "    .dataframe tbody tr th:only-of-type {\n",
       "        vertical-align: middle;\n",
       "    }\n",
       "\n",
       "    .dataframe tbody tr th {\n",
       "        vertical-align: top;\n",
       "    }\n",
       "\n",
       "    .dataframe thead th {\n",
       "        text-align: right;\n",
       "    }\n",
       "</style>\n",
       "<table border=\"1\" class=\"dataframe\">\n",
       "  <thead>\n",
       "    <tr style=\"text-align: right;\">\n",
       "      <th></th>\n",
       "      <th>SRAD</th>\n",
       "      <th>TMAX</th>\n",
       "      <th>TMIN</th>\n",
       "      <th>RAIN</th>\n",
       "      <th>TAVE</th>\n",
       "    </tr>\n",
       "  </thead>\n",
       "  <tbody>\n",
       "    <tr>\n",
       "      <th>SRAD</th>\n",
       "      <td>NaN</td>\n",
       "      <td>NaN</td>\n",
       "      <td>NaN</td>\n",
       "      <td>NaN</td>\n",
       "      <td>NaN</td>\n",
       "    </tr>\n",
       "    <tr>\n",
       "      <th>TMAX</th>\n",
       "      <td>NaN</td>\n",
       "      <td>1.000000</td>\n",
       "      <td>0.577194</td>\n",
       "      <td>0.152349</td>\n",
       "      <td>0.585448</td>\n",
       "    </tr>\n",
       "    <tr>\n",
       "      <th>TMIN</th>\n",
       "      <td>NaN</td>\n",
       "      <td>0.577194</td>\n",
       "      <td>1.000000</td>\n",
       "      <td>0.116230</td>\n",
       "      <td>0.998361</td>\n",
       "    </tr>\n",
       "    <tr>\n",
       "      <th>RAIN</th>\n",
       "      <td>NaN</td>\n",
       "      <td>0.152349</td>\n",
       "      <td>0.116230</td>\n",
       "      <td>1.000000</td>\n",
       "      <td>0.095971</td>\n",
       "    </tr>\n",
       "    <tr>\n",
       "      <th>TAVE</th>\n",
       "      <td>NaN</td>\n",
       "      <td>0.585448</td>\n",
       "      <td>0.998361</td>\n",
       "      <td>0.095971</td>\n",
       "      <td>1.000000</td>\n",
       "    </tr>\n",
       "  </tbody>\n",
       "</table>\n",
       "</div>"
      ],
      "text/plain": [
       "      SRAD      TMAX      TMIN      RAIN      TAVE\n",
       "SRAD   NaN       NaN       NaN       NaN       NaN\n",
       "TMAX   NaN  1.000000  0.577194  0.152349  0.585448\n",
       "TMIN   NaN  0.577194  1.000000  0.116230  0.998361\n",
       "RAIN   NaN  0.152349  0.116230  1.000000  0.095971\n",
       "TAVE   NaN  0.585448  0.998361  0.095971  1.000000"
      ]
     },
     "execution_count": 25,
     "metadata": {},
     "output_type": "execute_result"
    }
   ],
   "source": [
    "# corrMatrix = data[['SRAD', 'TMAX', 'TMIN', 'RAIN', 'TAVE']].corr()\n",
    "corrMatrix = data.corr()\n",
    "corrMatrix"
   ]
  },
  {
   "cell_type": "code",
   "execution_count": 26,
   "metadata": {},
   "outputs": [
    {
     "data": {
      "image/png": "[encoded data removed]",
      "text/plain": [
       "<Figure size 432x288 with 2 Axes>"
      ]
     },
     "metadata": {
      "needs_background": "light"
     },
     "output_type": "display_data"
    }
   ],
   "source": [
    "sn.heatmap(corrMatrix, annot=True, cmap='Blues')\n",
    "plt.show()"
   ]
  },
  {
   "cell_type": "markdown",
   "metadata": {},
   "source": [
    "## Data cleaning"
   ]
  },
  {
   "cell_type": "markdown",
   "metadata": {},
   "source": [
    "### Remove outliers for findind real mean value of each column."
   ]
  },
  {
   "cell_type": "code",
   "execution_count": 27,
   "metadata": {},
   "outputs": [
    {
     "name": "stdout",
     "output_type": "stream",
     "text": [
      "New mean of TMAX column is TMAX    31.784886\n",
      "dtype: float64\n",
      "sd: TMAX    1.961409\n",
      "dtype: float64\n",
      "\n",
      "New mean of TMIN column is TMIN    23.452013\n",
      "dtype: float64\n",
      "sd: TMIN    1.095465\n",
      "dtype: float64\n",
      "\n",
      "New mean of RAIN column is RAIN   -3.649754\n",
      "dtype: float64\n",
      "sd: RAIN    34.386146\n",
      "dtype: float64\n",
      "\n",
      "New mean of TAVE column is TAVE    27.616152\n",
      "dtype: float64\n",
      "sd: TAVE    1.246783\n",
      "dtype: float64\n",
      "\n"
     ]
    },
    {
     "data": {
      "image/png": "[encoded data removed]",
      "text/plain": [
       "<Figure size 432x288 with 1 Axes>"
      ]
     },
     "metadata": {
      "needs_background": "light"
     },
     "output_type": "display_data"
    },
    {
     "data": {
      "image/png": "[encoded data removed]",
      "text/plain": [
       "<Figure size 432x288 with 1 Axes>"
      ]
     },
     "metadata": {
      "needs_background": "light"
     },
     "output_type": "display_data"
    },
    {
     "data": {
      "image/png": "[encoded data removed]",
      "text/plain": [
       "<Figure size 432x288 with 1 Axes>"
      ]
     },
     "metadata": {
      "needs_background": "light"
     },
     "output_type": "display_data"
    },
    {
     "data": {
      "image/png": "[encoded data removed]",
      "text/plain": [
       "<Figure size 432x288 with 1 Axes>"
      ]
     },
     "metadata": {
      "needs_background": "light"
     },
     "output_type": "display_data"
    }
   ],
   "source": [
    "from scipy import stats\n",
    "\n",
    "mean_dict = dict()\n",
    "data_copy = data.copy()\n",
    "for item in range(1, len(data_copy.columns.values)):\n",
    "    item_column = data_copy[[data_copy.columns.values[item]]]\n",
    "    z = np.abs(stats.zscore(item_column))\n",
    "    item_column = item_column[(z < 3).all(axis=1)]\n",
    "    mean_dict[data_copy.columns.values[item]] = item_column.mean().mean()\n",
    "    \n",
    "    print(\"New mean of {} column is {}\".format(data_copy.columns.values[item], item_column.mean()))\n",
    "    print(\"sd: {}\\n\".format(item_column.std()))\n",
    "    item_column.plot()"
   ]
  },
  {
   "cell_type": "code",
   "execution_count": 28,
   "metadata": {},
   "outputs": [
    {
     "data": {
      "text/plain": [
       "{'TMAX': 31.784885591705404,\n",
       " 'TMIN': 23.45201339245317,\n",
       " 'RAIN': -3.649753914988813,\n",
       " 'TAVE': 27.616152384399598}"
      ]
     },
     "execution_count": 28,
     "metadata": {},
     "output_type": "execute_result"
    }
   ],
   "source": [
    "mean_dict"
   ]
  },
  {
   "cell_type": "markdown",
   "metadata": {},
   "source": [
    "## Why does the RAIN column look strange and different from other columns?"
   ]
  },
  {
   "cell_type": "markdown",
   "metadata": {},
   "source": [
    "### Before removing outliers"
   ]
  },
  {
   "cell_type": "code",
   "execution_count": 29,
   "metadata": {},
   "outputs": [
    {
     "data": {
      "text/plain": [
       "<matplotlib.axes._subplots.AxesSubplot at 0x1e512c4a128>"
      ]
     },
     "execution_count": 29,
     "metadata": {},
     "output_type": "execute_result"
    },
    {
     "data": {
      "image/png": "[encoded data removed]",
      "text/plain": [
       "<Figure size 432x288 with 1 Axes>"
      ]
     },
     "metadata": {
      "needs_background": "light"
     },
     "output_type": "display_data"
    }
   ],
   "source": [
    "data.RAIN.plot()"
   ]
  },
  {
   "cell_type": "code",
   "execution_count": 30,
   "metadata": {},
   "outputs": [
    {
     "data": {
      "image/png": "[encoded data removed]",
      "text/plain": [
       "<Figure size 432x288 with 1 Axes>"
      ]
     },
     "metadata": {
      "needs_background": "light"
     },
     "output_type": "display_data"
    }
   ],
   "source": [
    "# plotting points as a scatter plot \n",
    "plt.scatter(data.index.values, data[['RAIN']], color= \"blue\", s=30) \n",
    "  \n",
    "# x-axis label \n",
    "plt.xlabel('DATE') \n",
    "# frequency label \n",
    "plt.ylabel('RAIN') \n",
    "# plot title \n",
    "plt.title('RAIN column') \n",
    "\n",
    "  \n",
    "# function to show the plot \n",
    "plt.show() "
   ]
  },
  {
   "cell_type": "markdown",
   "metadata": {},
   "source": [
    "### After removing outliers"
   ]
  },
  {
   "cell_type": "code",
   "execution_count": 31,
   "metadata": {},
   "outputs": [
    {
     "data": {
      "text/plain": [
       "(11175, 1)"
      ]
     },
     "execution_count": 31,
     "metadata": {},
     "output_type": "execute_result"
    },
    {
     "data": {
      "image/png": "[encoded data removed]",
      "text/plain": [
       "<Figure size 432x288 with 1 Axes>"
      ]
     },
     "metadata": {
      "needs_background": "light"
     },
     "output_type": "display_data"
    }
   ],
   "source": [
    "from scipy import stats\n",
    "\n",
    "data_RAIN = data[['RAIN']].copy()\n",
    "z = np.abs(stats.zscore(data_RAIN))\n",
    "threshold = 3\n",
    "data_RAIN = data_RAIN[(z < threshold).all(axis=1)]\n",
    "data_RAIN.plot()\n",
    "data_RAIN.shape"
   ]
  },
  {
   "cell_type": "code",
   "execution_count": 32,
   "metadata": {},
   "outputs": [
    {
     "data": {
      "image/png": "[encoded data removed]",
      "text/plain": [
       "<Figure size 432x288 with 1 Axes>"
      ]
     },
     "metadata": {
      "needs_background": "light"
     },
     "output_type": "display_data"
    }
   ],
   "source": [
    "# plotting points as a scatter plot \n",
    "plt.scatter(data_RAIN.index.values, data_RAIN[['RAIN']], color= \"blue\", s=30) \n",
    "  \n",
    "# x-axis label \n",
    "plt.xlabel('DATE') \n",
    "# frequency label \n",
    "plt.ylabel('RAIN') \n",
    "# plot title \n",
    "plt.title('RAIN column') \n",
    "\n",
    "  \n",
    "# function to show the plot \n",
    "plt.show() "
   ]
  },
  {
   "cell_type": "markdown",
   "metadata": {},
   "source": [
    "## Because the RAIN column is very different between most value and the highest value which are different from other columns."
   ]
  },
  {
   "cell_type": "code",
   "execution_count": 33,
   "metadata": {},
   "outputs": [
    {
     "data": {
      "text/plain": [
       "<matplotlib.axes._subplots.AxesSubplot at 0x1e514048cc0>"
      ]
     },
     "execution_count": 33,
     "metadata": {},
     "output_type": "execute_result"
    },
    {
     "data": {
      "image/png": "[encoded data removed]",
      "text/plain": [
       "<Figure size 432x288 with 1 Axes>"
      ]
     },
     "metadata": {
      "needs_background": "light"
     },
     "output_type": "display_data"
    }
   ],
   "source": [
    "data_RAIN = data_RAIN[data_RAIN.RAIN != -99.0]\n",
    "data_RAIN.plot()"
   ]
  },
  {
   "cell_type": "code",
   "execution_count": 34,
   "metadata": {},
   "outputs": [
    {
     "data": {
      "image/png": "[encoded data removed]",
      "text/plain": [
       "<Figure size 432x288 with 1 Axes>"
      ]
     },
     "metadata": {
      "needs_background": "light"
     },
     "output_type": "display_data"
    }
   ],
   "source": [
    "# plotting points as a scatter plot \n",
    "plt.scatter(data_RAIN.index.values, data_RAIN[['RAIN']], color= \"blue\", s=30) \n",
    "  \n",
    "# x-axis label \n",
    "plt.xlabel('DATE') \n",
    "# frequency label \n",
    "plt.ylabel('RAIN') \n",
    "# plot title \n",
    "plt.title('RAIN column') \n",
    "\n",
    "  \n",
    "# function to show the plot \n",
    "plt.show() "
   ]
  },
  {
   "cell_type": "code",
   "execution_count": 35,
   "metadata": {},
   "outputs": [
    {
     "data": {
      "text/plain": [
       "(10087, 1)"
      ]
     },
     "execution_count": 35,
     "metadata": {},
     "output_type": "execute_result"
    }
   ],
   "source": [
    "data_RAIN.shape"
   ]
  },
  {
   "cell_type": "code",
   "execution_count": 36,
   "metadata": {},
   "outputs": [
    {
     "data": {
      "text/plain": [
       "count    10087.000000\n",
       "mean         6.634877\n",
       "std         14.947662\n",
       "min          0.000000\n",
       "25%          0.000000\n",
       "50%          0.000000\n",
       "75%          5.500000\n",
       "max        111.000000\n",
       "Name: RAIN, dtype: float64"
      ]
     },
     "execution_count": 36,
     "metadata": {},
     "output_type": "execute_result"
    }
   ],
   "source": [
    "data_RAIN.RAIN.describe()"
   ]
  },
  {
   "cell_type": "markdown",
   "metadata": {},
   "source": [
    "# New dataset"
   ]
  },
  {
   "cell_type": "code",
   "execution_count": 37,
   "metadata": {},
   "outputs": [],
   "source": [
    "data_clean = data.copy()"
   ]
  },
  {
   "cell_type": "markdown",
   "metadata": {},
   "source": [
    "### Replace -99.0 with the mean value of each column except 'RAIN'"
   ]
  },
  {
   "cell_type": "code",
   "execution_count": 38,
   "metadata": {},
   "outputs": [
    {
     "data": {
      "text/plain": [
       "{'TMAX': 31.784885591705404,\n",
       " 'TMIN': 23.45201339245317,\n",
       " 'TAVE': 27.616152384399598}"
      ]
     },
     "execution_count": 38,
     "metadata": {},
     "output_type": "execute_result"
    }
   ],
   "source": [
    "del mean_dict['RAIN']\n",
    "mean_dict"
   ]
  },
  {
   "cell_type": "code",
   "execution_count": 39,
   "metadata": {},
   "outputs": [
    {
     "data": {
      "text/plain": [
       "211"
      ]
     },
     "execution_count": 39,
     "metadata": {},
     "output_type": "execute_result"
    }
   ],
   "source": [
    "data_clean['TAVE'].isin([-99.0]).sum()"
   ]
  },
  {
   "cell_type": "code",
   "execution_count": 40,
   "metadata": {},
   "outputs": [],
   "source": [
    "for col, value in mean_dict.items():\n",
    "    data_clean[col].replace({-99.0 : value}, inplace=True)\n",
    "# data_clean"
   ]
  },
  {
   "cell_type": "code",
   "execution_count": 41,
   "metadata": {},
   "outputs": [
    {
     "data": {
      "text/html": [
       "<div>\n",
       "<style scoped>\n",
       "    .dataframe tbody tr th:only-of-type {\n",
       "        vertical-align: middle;\n",
       "    }\n",
       "\n",
       "    .dataframe tbody tr th {\n",
       "        vertical-align: top;\n",
       "    }\n",
       "\n",
       "    .dataframe thead th {\n",
       "        text-align: right;\n",
       "    }\n",
       "</style>\n",
       "<table border=\"1\" class=\"dataframe\">\n",
       "  <thead>\n",
       "    <tr style=\"text-align: right;\">\n",
       "      <th></th>\n",
       "      <th>SRAD</th>\n",
       "      <th>TMAX</th>\n",
       "      <th>TMIN</th>\n",
       "      <th>RAIN</th>\n",
       "      <th>TAVE</th>\n",
       "    </tr>\n",
       "  </thead>\n",
       "  <tbody>\n",
       "    <tr>\n",
       "      <th>count</th>\n",
       "      <td>11262.0</td>\n",
       "      <td>11262.000000</td>\n",
       "      <td>11262.000000</td>\n",
       "      <td>11262.000000</td>\n",
       "      <td>11262.000000</td>\n",
       "    </tr>\n",
       "    <tr>\n",
       "      <th>mean</th>\n",
       "      <td>-99.0</td>\n",
       "      <td>31.784886</td>\n",
       "      <td>23.452013</td>\n",
       "      <td>-2.319606</td>\n",
       "      <td>27.616152</td>\n",
       "    </tr>\n",
       "    <tr>\n",
       "      <th>std</th>\n",
       "      <td>0.0</td>\n",
       "      <td>1.954954</td>\n",
       "      <td>1.085154</td>\n",
       "      <td>37.811093</td>\n",
       "      <td>1.235047</td>\n",
       "    </tr>\n",
       "    <tr>\n",
       "      <th>min</th>\n",
       "      <td>-99.0</td>\n",
       "      <td>23.700000</td>\n",
       "      <td>17.700000</td>\n",
       "      <td>-99.000000</td>\n",
       "      <td>22.500000</td>\n",
       "    </tr>\n",
       "    <tr>\n",
       "      <th>25%</th>\n",
       "      <td>-99.0</td>\n",
       "      <td>30.500000</td>\n",
       "      <td>22.900000</td>\n",
       "      <td>0.000000</td>\n",
       "      <td>26.900000</td>\n",
       "    </tr>\n",
       "    <tr>\n",
       "      <th>50%</th>\n",
       "      <td>-99.0</td>\n",
       "      <td>32.000000</td>\n",
       "      <td>23.500000</td>\n",
       "      <td>0.000000</td>\n",
       "      <td>27.700000</td>\n",
       "    </tr>\n",
       "    <tr>\n",
       "      <th>75%</th>\n",
       "      <td>-99.0</td>\n",
       "      <td>33.200000</td>\n",
       "      <td>24.100000</td>\n",
       "      <td>4.600000</td>\n",
       "      <td>28.500000</td>\n",
       "    </tr>\n",
       "    <tr>\n",
       "      <th>max</th>\n",
       "      <td>-99.0</td>\n",
       "      <td>38.300000</td>\n",
       "      <td>27.400000</td>\n",
       "      <td>441.600000</td>\n",
       "      <td>31.700000</td>\n",
       "    </tr>\n",
       "  </tbody>\n",
       "</table>\n",
       "</div>"
      ],
      "text/plain": [
       "          SRAD          TMAX          TMIN          RAIN          TAVE\n",
       "count  11262.0  11262.000000  11262.000000  11262.000000  11262.000000\n",
       "mean     -99.0     31.784886     23.452013     -2.319606     27.616152\n",
       "std        0.0      1.954954      1.085154     37.811093      1.235047\n",
       "min      -99.0     23.700000     17.700000    -99.000000     22.500000\n",
       "25%      -99.0     30.500000     22.900000      0.000000     26.900000\n",
       "50%      -99.0     32.000000     23.500000      0.000000     27.700000\n",
       "75%      -99.0     33.200000     24.100000      4.600000     28.500000\n",
       "max      -99.0     38.300000     27.400000    441.600000     31.700000"
      ]
     },
     "execution_count": 41,
     "metadata": {},
     "output_type": "execute_result"
    }
   ],
   "source": [
    "data_clean.describe()"
   ]
  },
  {
   "cell_type": "code",
   "execution_count": 42,
   "metadata": {},
   "outputs": [
    {
     "data": {
      "text/plain": [
       "0"
      ]
     },
     "execution_count": 42,
     "metadata": {},
     "output_type": "execute_result"
    }
   ],
   "source": [
    "#Checking missing value\n",
    "data_clean['TAVE'].isin([-99.0]).sum()"
   ]
  },
  {
   "cell_type": "code",
   "execution_count": 43,
   "metadata": {},
   "outputs": [],
   "source": [
    "#drop SRAD column\n",
    "data_clean.drop('SRAD', axis=1, inplace=True)"
   ]
  },
  {
   "cell_type": "code",
   "execution_count": 44,
   "metadata": {},
   "outputs": [
    {
     "data": {
      "text/plain": [
       "(11262, 4)"
      ]
     },
     "execution_count": 44,
     "metadata": {},
     "output_type": "execute_result"
    }
   ],
   "source": [
    "data_clean.shape"
   ]
  },
  {
   "cell_type": "code",
   "execution_count": 45,
   "metadata": {},
   "outputs": [
    {
     "data": {
      "text/plain": [
       "(11044, 4)"
      ]
     },
     "execution_count": 45,
     "metadata": {},
     "output_type": "execute_result"
    }
   ],
   "source": [
    "data_clean = data_clean[(np.abs(stats.zscore(data_clean)) < 3).all(axis=1)]\n",
    "data_clean.shape"
   ]
  },
  {
   "cell_type": "code",
   "execution_count": 46,
   "metadata": {},
   "outputs": [
    {
     "data": {
      "text/plain": [
       "(9983, 4)"
      ]
     },
     "execution_count": 46,
     "metadata": {},
     "output_type": "execute_result"
    }
   ],
   "source": [
    "#drop missing values in RAIN column. \n",
    "data_clean = data_clean[data_clean.RAIN != -99.0]\n",
    "data_clean.shape"
   ]
  },
  {
   "cell_type": "code",
   "execution_count": 47,
   "metadata": {},
   "outputs": [
    {
     "data": {
      "text/html": [
       "<div>\n",
       "<style scoped>\n",
       "    .dataframe tbody tr th:only-of-type {\n",
       "        vertical-align: middle;\n",
       "    }\n",
       "\n",
       "    .dataframe tbody tr th {\n",
       "        vertical-align: top;\n",
       "    }\n",
       "\n",
       "    .dataframe thead th {\n",
       "        text-align: right;\n",
       "    }\n",
       "</style>\n",
       "<table border=\"1\" class=\"dataframe\">\n",
       "  <thead>\n",
       "    <tr style=\"text-align: right;\">\n",
       "      <th></th>\n",
       "      <th>TMAX</th>\n",
       "      <th>TMIN</th>\n",
       "      <th>RAIN</th>\n",
       "      <th>TAVE</th>\n",
       "    </tr>\n",
       "  </thead>\n",
       "  <tbody>\n",
       "    <tr>\n",
       "      <th>count</th>\n",
       "      <td>9983.000000</td>\n",
       "      <td>9983.000000</td>\n",
       "      <td>9983.000000</td>\n",
       "      <td>9983.000000</td>\n",
       "    </tr>\n",
       "    <tr>\n",
       "      <th>mean</th>\n",
       "      <td>31.759000</td>\n",
       "      <td>23.545574</td>\n",
       "      <td>6.398017</td>\n",
       "      <td>27.649113</td>\n",
       "    </tr>\n",
       "    <tr>\n",
       "      <th>std</th>\n",
       "      <td>1.871844</td>\n",
       "      <td>1.007363</td>\n",
       "      <td>14.420229</td>\n",
       "      <td>1.180238</td>\n",
       "    </tr>\n",
       "    <tr>\n",
       "      <th>min</th>\n",
       "      <td>26.000000</td>\n",
       "      <td>20.200000</td>\n",
       "      <td>0.000000</td>\n",
       "      <td>24.000000</td>\n",
       "    </tr>\n",
       "    <tr>\n",
       "      <th>25%</th>\n",
       "      <td>30.500000</td>\n",
       "      <td>23.000000</td>\n",
       "      <td>0.000000</td>\n",
       "      <td>26.900000</td>\n",
       "    </tr>\n",
       "    <tr>\n",
       "      <th>50%</th>\n",
       "      <td>31.900000</td>\n",
       "      <td>23.500000</td>\n",
       "      <td>0.000000</td>\n",
       "      <td>27.700000</td>\n",
       "    </tr>\n",
       "    <tr>\n",
       "      <th>75%</th>\n",
       "      <td>33.100000</td>\n",
       "      <td>24.200000</td>\n",
       "      <td>5.400000</td>\n",
       "      <td>28.500000</td>\n",
       "    </tr>\n",
       "    <tr>\n",
       "      <th>max</th>\n",
       "      <td>37.400000</td>\n",
       "      <td>26.700000</td>\n",
       "      <td>110.300000</td>\n",
       "      <td>31.100000</td>\n",
       "    </tr>\n",
       "  </tbody>\n",
       "</table>\n",
       "</div>"
      ],
      "text/plain": [
       "              TMAX         TMIN         RAIN         TAVE\n",
       "count  9983.000000  9983.000000  9983.000000  9983.000000\n",
       "mean     31.759000    23.545574     6.398017    27.649113\n",
       "std       1.871844     1.007363    14.420229     1.180238\n",
       "min      26.000000    20.200000     0.000000    24.000000\n",
       "25%      30.500000    23.000000     0.000000    26.900000\n",
       "50%      31.900000    23.500000     0.000000    27.700000\n",
       "75%      33.100000    24.200000     5.400000    28.500000\n",
       "max      37.400000    26.700000   110.300000    31.100000"
      ]
     },
     "execution_count": 47,
     "metadata": {},
     "output_type": "execute_result"
    }
   ],
   "source": [
    "data_clean.describe()"
   ]
  },
  {
   "cell_type": "code",
   "execution_count": 48,
   "metadata": {},
   "outputs": [
    {
     "data": {
      "text/html": [
       "<div>\n",
       "<style scoped>\n",
       "    .dataframe tbody tr th:only-of-type {\n",
       "        vertical-align: middle;\n",
       "    }\n",
       "\n",
       "    .dataframe tbody tr th {\n",
       "        vertical-align: top;\n",
       "    }\n",
       "\n",
       "    .dataframe thead th {\n",
       "        text-align: right;\n",
       "    }\n",
       "</style>\n",
       "<table border=\"1\" class=\"dataframe\">\n",
       "  <thead>\n",
       "    <tr style=\"text-align: right;\">\n",
       "      <th></th>\n",
       "      <th>TMAX</th>\n",
       "      <th>TMIN</th>\n",
       "      <th>RAIN</th>\n",
       "      <th>TAVE</th>\n",
       "    </tr>\n",
       "  </thead>\n",
       "  <tbody>\n",
       "    <tr>\n",
       "      <th>TMAX</th>\n",
       "      <td>1.000000</td>\n",
       "      <td>0.292804</td>\n",
       "      <td>-0.201150</td>\n",
       "      <td>0.905301</td>\n",
       "    </tr>\n",
       "    <tr>\n",
       "      <th>TMIN</th>\n",
       "      <td>0.292804</td>\n",
       "      <td>1.000000</td>\n",
       "      <td>-0.097374</td>\n",
       "      <td>0.658920</td>\n",
       "    </tr>\n",
       "    <tr>\n",
       "      <th>RAIN</th>\n",
       "      <td>-0.201150</td>\n",
       "      <td>-0.097374</td>\n",
       "      <td>1.000000</td>\n",
       "      <td>-0.198737</td>\n",
       "    </tr>\n",
       "    <tr>\n",
       "      <th>TAVE</th>\n",
       "      <td>0.905301</td>\n",
       "      <td>0.658920</td>\n",
       "      <td>-0.198737</td>\n",
       "      <td>1.000000</td>\n",
       "    </tr>\n",
       "  </tbody>\n",
       "</table>\n",
       "</div>"
      ],
      "text/plain": [
       "          TMAX      TMIN      RAIN      TAVE\n",
       "TMAX  1.000000  0.292804 -0.201150  0.905301\n",
       "TMIN  0.292804  1.000000 -0.097374  0.658920\n",
       "RAIN -0.201150 -0.097374  1.000000 -0.198737\n",
       "TAVE  0.905301  0.658920 -0.198737  1.000000"
      ]
     },
     "execution_count": 48,
     "metadata": {},
     "output_type": "execute_result"
    }
   ],
   "source": [
    "new_corrMatrix = data_clean.corr()\n",
    "new_corrMatrix"
   ]
  },
  {
   "cell_type": "markdown",
   "metadata": {},
   "source": [
    "## Answer\n",
    "<ul>\n",
    "    <li>\"TAVE\" has strong positive correlation with \"TMAX\"</li>\n",
    "    <li>\"TAVE\" has medium positive correlation with \"TMIN\"</li>\n",
    "    <li>\"RAIN\" has almost no correlation with any columns</li>\n",
    "</ul>"
   ]
  },
  {
   "cell_type": "code",
   "execution_count": 49,
   "metadata": {},
   "outputs": [
    {
     "data": {
      "image/png": "[encoded data removed]",
      "text/plain": [
       "<Figure size 432x288 with 2 Axes>"
      ]
     },
     "metadata": {
      "needs_background": "light"
     },
     "output_type": "display_data"
    }
   ],
   "source": [
    "sn.heatmap(new_corrMatrix, annot=True, cmap='Blues')\n",
    "plt.show()"
   ]
  },
  {
   "cell_type": "markdown",
   "metadata": {},
   "source": [
    "## d - Plot the Fourier transform of TAVE. Do you notice some pattern ? How can you interpret it ?"
   ]
  },
  {
   "cell_type": "code",
   "execution_count": 51,
   "metadata": {},
   "outputs": [
    {
     "data": {
      "text/plain": [
       "[<matplotlib.lines.Line2D at 0x1e513fc6438>]"
      ]
     },
     "execution_count": 51,
     "metadata": {},
     "output_type": "execute_result"
    },
    {
     "data": {
      "image/png": "[encoded data removed]",
      "text/plain": [
       "<Figure size 432x288 with 1 Axes>"
      ]
     },
     "metadata": {
      "needs_background": "light"
     },
     "output_type": "display_data"
    }
   ],
   "source": [
    "import scipy.fftpack\n",
    "yf = scipy.fft(data_clean[\"RAIN\"].values)  \n",
    "x = scipy.fftpack.fftfreq(yf.size, 1 / 25e3)\n",
    "plt.plot(x[:x.size//2], abs(yf)[:yf.size//2])  # omit fold"
   ]
  },
  {
   "cell_type": "code",
   "execution_count": 52,
   "metadata": {},
   "outputs": [
    {
     "data": {
      "image/png": "[encoded data removed]",
      "text/plain": [
       "<Figure size 432x288 with 1 Axes>"
      ]
     },
     "metadata": {
      "needs_background": "light"
     },
     "output_type": "display_data"
    }
   ],
   "source": [
    "%matplotlib inline\n",
    "from scipy.fftpack import fft\n",
    "# Number of sample points\n",
    "N = 600\n",
    "T = 1.0 / 800.0\n",
    "\n",
    "yf = fft(data_clean[\"RAIN\"].values)\n",
    "xf = 1/(N*T)*np.arange(N//2)\n",
    "# x-axis label \n",
    "plt.xlabel('frequency') \n",
    "# frequency label \n",
    "plt.ylabel('value') \n",
    "# plot title \n",
    "plt.plot(xf, 2.0/N * np.abs(yf[0:N//2]))\n",
    "plt.grid()\n",
    "plt.show()"
   ]
  },
  {
   "cell_type": "markdown",
   "metadata": {},
   "source": [
    "### Answer\n",
    "<ul>\n",
    "    <li>There are many 0 values.</li>\n",
    "    <li>The data has a high frequency in the .</li>\n",
    "</ul>"
   ]
  },
  {
   "cell_type": "markdown",
   "metadata": {},
   "source": [
    "## e - Calculate the average probability of rain  (RAIN > 0) in 2000."
   ]
  },
  {
   "cell_type": "code",
   "execution_count": null,
   "metadata": {},
   "outputs": [],
   "source": []
  },
  {
   "cell_type": "markdown",
   "metadata": {},
   "source": [
    "## f - Calculate the median TMIN for October (calculated based on observations of any year as long as it is in October)."
   ]
  },
  {
   "cell_type": "markdown",
   "metadata": {},
   "source": [
    "<ul>\n",
    "    <li> https://www.interviewqs.com/ddi_code_snippets/extract_month_year_pandas </li>\n",
    "    <li>https://docs.python.org/3.4/library/datetime.html</li>\n",
    "</ul>"
   ]
  },
  {
   "cell_type": "code",
   "execution_count": null,
   "metadata": {},
   "outputs": [],
   "source": [
    "from calendar import monthrange\n",
    "monthrange(2011, 2)"
   ]
  },
  {
   "cell_type": "code",
   "execution_count": null,
   "metadata": {},
   "outputs": [],
   "source": [
    "data.TAVE.iloc[:2].median()"
   ]
  },
  {
   "cell_type": "markdown",
   "metadata": {},
   "source": [
    "# 2 - Deep learning\n",
    "## a - Give at least 5 ways to limit overfitting in a neural network (the more ways you find, the better)"
   ]
  },
  {
   "cell_type": "markdown",
   "metadata": {},
   "source": [
    "<ol>\n",
    "    <li>Simplifying The Model </li>\n",
    "    <li>Early Stopping </li>\n",
    "    <li>Use Data Augmentation </li>\n",
    "    <li>Use Regularization </li>\n",
    "    <li>Use Dropouts </li>"
   ]
  },
  {
   "cell_type": "markdown",
   "metadata": {},
   "source": [
    "## b - In what case would you use a softmax layer instead of a ReLU layer ?"
   ]
  },
  {
   "cell_type": "code",
   "execution_count": null,
   "metadata": {},
   "outputs": [],
   "source": []
  },
  {
   "cell_type": "markdown",
   "metadata": {},
   "source": [
    "## c - What are the advantages and drawbacks of using small batch size during training ?"
   ]
  },
  {
   "cell_type": "code",
   "execution_count": null,
   "metadata": {},
   "outputs": [],
   "source": []
  },
  {
   "cell_type": "markdown",
   "metadata": {},
   "source": [
    "## d - Supposing that you have weather data from an hundred stations (in the same format as in Part 1). How would you tackle with the abnormal data ? You can suppose that extreme values are missing. Could you propose a way to fill these missing values using deep learning ? Which kind of layers would you use ?"
   ]
  },
  {
   "cell_type": "code",
   "execution_count": null,
   "metadata": {},
   "outputs": [],
   "source": []
  },
  {
   "cell_type": "markdown",
   "metadata": {},
   "source": [
    "# 3 - Miscellaneous \n",
    "## a - You have to solve a problem of finding a linear function f, such that given Y of size (n, 1) and X of size (n, p), with n>p, the mean squared difference between f(X) and Y is minimal. What function f could you choose ?"
   ]
  },
  {
   "cell_type": "code",
   "execution_count": null,
   "metadata": {},
   "outputs": [],
   "source": []
  },
  {
   "cell_type": "markdown",
   "metadata": {},
   "source": [
    "## b - Now, p>n, is the problem still solvable ?"
   ]
  },
  {
   "cell_type": "code",
   "execution_count": null,
   "metadata": {},
   "outputs": [],
   "source": []
  },
  {
   "cell_type": "markdown",
   "metadata": {},
   "source": [
    "## c - You want to load on your computer an array A of size (200000. 3000) of signed single precision floating point numbers. How much RAM do you need ?"
   ]
  },
  {
   "cell_type": "code",
   "execution_count": null,
   "metadata": {},
   "outputs": [],
   "source": []
  },
  {
   "cell_type": "markdown",
   "metadata": {},
   "source": [
    "## d - If the matrix A of the previous question is full of 1, your computer has 8GB of RAM, and you calculate the matrix product A x A (A@A in numpy), what do you get ?"
   ]
  },
  {
   "cell_type": "code",
   "execution_count": null,
   "metadata": {},
   "outputs": [],
   "source": []
  }
 ],
 "metadata": {
  "kernelspec": {
   "display_name": "Python 3",
   "language": "python",
   "name": "python3"
  },
  "language_info": {
   "codemirror_mode": {
    "name": "ipython",
    "version": 3
   },
   "file_extension": ".py",
   "mimetype": "text/x-python",
   "name": "python",
   "nbconvert_exporter": "python",
   "pygments_lexer": "ipython3",
   "version": "3.6.7"
  }
 },
 "nbformat": 4,
 "nbformat_minor": 2
}
